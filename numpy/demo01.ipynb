{
 "cells": [
  {
   "cell_type": "code",
   "execution_count": 1,
   "metadata": {},
   "outputs": [
    {
     "name": "stdout",
     "output_type": "stream",
     "text": [
      "[1 2 3]\n",
      "<class 'numpy.ndarray'>\n",
      "[0 1 2 3 4 5 6 7 8 9]\n",
      "[4 6 8]\n",
      "int32\n",
      "[1. 2. 3.]\n",
      "float64\n",
      "[ True  True False  True False]\n",
      "[1 1 0 1 0]\n",
      "[0.97185308 0.88048647 0.18050151 0.36405679 0.12954134 0.25141749\n",
      " 0.71603848 0.79366814 0.88667198 0.30576993]\n",
      "[0.97 0.88 0.18 0.36 0.13 0.25 0.72 0.79 0.89 0.31]\n"
     ]
    }
   ],
   "source": [
    "import numpy as np\n",
    "\n",
    "# 使用numpy生成数组，得到ndarray类型\n",
    "# np.array   np.arange\n",
    "t1 = np.array([1, 2, 3])\n",
    "print(t1)\n",
    "print(type(t1))\n",
    "\n",
    "t2 = np.array(range(10))\n",
    "print(t2)\n",
    "\n",
    "t3 = np.arange(4, 10, 2)\n",
    "print(t3)\n",
    "print(t3.dtype)\n",
    "\n",
    "# numpy中的数据类型\n",
    "t4 = np.array(range(1, 4), dtype=float)\n",
    "print(t4)\n",
    "print(t4.dtype)\n",
    "\n",
    "# numpy中的布尔类型\n",
    "t5 = np.array([1, 1, 0, 1, 0], dtype=bool)\n",
    "print(t5)\n",
    "\n",
    "# 调整数据类型\n",
    "t6 = t5.astype(int)\n",
    "print(t6)\n",
    "\n",
    "# numpy中的小数 , 使用random来生成\n",
    "n7 = np.array([np.random.random() for i in range(10)])\n",
    "print(n7)\n",
    "\n",
    "# 取几位小数\n",
    "n8 = np.round(n7, 2)\n",
    "print(n8)"
   ]
  }
 ],
 "metadata": {
  "kernelspec": {
   "display_name": "Python 3",
   "language": "python",
   "name": "python3"
  },
  "language_info": {
   "codemirror_mode": {
    "name": "ipython",
    "version": 3
   },
   "file_extension": ".py",
   "mimetype": "text/x-python",
   "name": "python",
   "nbconvert_exporter": "python",
   "pygments_lexer": "ipython3",
   "version": "3.11.2"
  },
  "orig_nbformat": 4
 },
 "nbformat": 4,
 "nbformat_minor": 2
}
